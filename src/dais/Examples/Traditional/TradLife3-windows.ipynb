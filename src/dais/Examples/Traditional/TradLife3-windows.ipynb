{
 "cells": [
  {
   "cell_type": "code",
   "execution_count": 1,
   "metadata": {
    "collapsed": true
   },
   "outputs": [],
   "source": [
    "import os\n",
    "import sys\n",
    "import pandas as pd\n",
    "import numpy as np"
   ]
  },
  {
   "cell_type": "code",
   "execution_count": 2,
   "metadata": {
    "collapsed": true
   },
   "outputs": [],
   "source": [
    "package_folder='C:/Users/admin/Documents/Nitin/others/unittest/src'\n",
    "# in_folder='/Users/rossmoore/Documents/code/prophet/ChrisLai'\n",
    "# in_folder='/Users/romoore/Resilio Sync/code/prophet/ChrisLai'\n",
    "# in_folder='/media/Media/Documents/code/Resilio_code/prophet/dais/Examples/Traditional'\n",
    "in_folder='C:/Users/admin/Documents/Nitin/others/unittest/test_data_folder'\n",
    "tables_file='TablesCommon.xlsx'\n",
    "tables_be_file='TablesBE.xlsx'\n",
    "maps_file='Table_Maps.xlsx'\n",
    "mpf_file='MPF.txt'\n",
    "# mpf_file10k='MPF10k.parquet'\n",
    "# mpf_file50k='MPF50k.parquet'"
   ]
  },
  {
   "cell_type": "code",
   "execution_count": 3,
   "metadata": {},
   "outputs": [],
   "source": [
    "sys.path.insert(0, package_folder)\n",
    "import dais"
   ]
  },
  {
   "cell_type": "code",
   "execution_count": 4,
   "metadata": {
    "scrolled": true
   },
   "outputs": [
    {
     "name": "stderr",
     "output_type": "stream",
     "text": [
      "C:\\Users\\admin\\Anaconda3\\lib\\site-packages\\numba\\decorators.py:149: RuntimeWarning: Caching is not available when the 'parallel' target is in use. Caching is now being disabled to allow execution to continue.\n",
      "  warnings.warn(msg, RuntimeWarning)\n"
     ]
    }
   ],
   "source": [
    "from dais.models.traditional2 import TraditionalLifeFunctions\n",
    "from dais.models.common3 import BaseModel, BondModel\n",
    "# ,FunctionNode, ModelDependencyGraph"
   ]
  },
  {
   "cell_type": "code",
   "execution_count": 5,
   "metadata": {
    "collapsed": true
   },
   "outputs": [],
   "source": [
    "a=BaseModel()\n",
    "# a=BondModel()"
   ]
  },
  {
   "cell_type": "code",
   "execution_count": 6,
   "metadata": {},
   "outputs": [
    {
     "name": "stdout",
     "output_type": "stream",
     "text": [
      "162 variable definitions imported.\n",
      "Wall time: 5.02 ms\n"
     ]
    }
   ],
   "source": [
    "%%time\n",
    "a.setfuncs(TraditionalLifeFunctions)"
   ]
  },
  {
   "cell_type": "code",
   "execution_count": 7,
   "metadata": {
    "scrolled": true
   },
   "outputs": [
    {
     "name": "stdout",
     "output_type": "stream",
     "text": [
      "Processing MPF. 112 unmapped variables to start with.\n"
     ]
    },
    {
     "ename": "AttributeError",
     "evalue": "'Series' object has no attribute 'to_numpy'",
     "output_type": "error",
     "traceback": [
      "\u001b[1;31m---------------------------------------------------------------------------\u001b[0m",
      "\u001b[1;31mAttributeError\u001b[0m                            Traceback (most recent call last)",
      "\u001b[1;32m<ipython-input-7-7f1ac0596d33>\u001b[0m in \u001b[0;36m<module>\u001b[1;34m\u001b[0m\n\u001b[0;32m     25\u001b[0m             \u001b[1;33m,\u001b[0m \u001b[0mCP_TYPE_patch\u001b[0m\u001b[1;33m=\u001b[0m\u001b[0mmpf\u001b[0m\u001b[1;33m[\u001b[0m\u001b[1;34m'CP_TYPE'\u001b[0m\u001b[1;33m]\u001b[0m\u001b[1;33m.\u001b[0m\u001b[0mapply\u001b[0m\u001b[1;33m(\u001b[0m\u001b[0mcp_type\u001b[0m\u001b[1;33m)\u001b[0m\u001b[1;33m\u001b[0m\u001b[0m\n\u001b[0;32m     26\u001b[0m             , ISS_YR_IDX=999999)\n\u001b[1;32m---> 27\u001b[1;33m \u001b[0ma\u001b[0m\u001b[1;33m.\u001b[0m\u001b[0madd_source_mpf\u001b[0m\u001b[1;33m(\u001b[0m\u001b[0mmpf\u001b[0m\u001b[1;33m)\u001b[0m\u001b[1;33m\u001b[0m\u001b[0m\n\u001b[0m",
      "\u001b[1;32mC:/Users/admin/Documents/Nitin/others/unittest/src\\dais\\models\\common3.py\u001b[0m in \u001b[0;36madd_source_mpf\u001b[1;34m(self, df)\u001b[0m\n\u001b[0;32m    142\u001b[0m                                 \u001b[0mfnode\u001b[0m\u001b[1;33m=\u001b[0m\u001b[0mself\u001b[0m\u001b[1;33m.\u001b[0m\u001b[0minternal_graph\u001b[0m\u001b[1;33m.\u001b[0m\u001b[0mnodes\u001b[0m\u001b[1;33m[\u001b[0m\u001b[0mnode\u001b[0m\u001b[1;33m]\u001b[0m\u001b[1;33m[\u001b[0m\u001b[1;34m'funcnode'\u001b[0m\u001b[1;33m]\u001b[0m\u001b[1;33m\u001b[0m\u001b[0m\n\u001b[0;32m    143\u001b[0m                                 \u001b[0mfnode\u001b[0m\u001b[1;33m.\u001b[0m\u001b[0mset_source_type\u001b[0m\u001b[1;33m(\u001b[0m\u001b[1;34m'MPF'\u001b[0m\u001b[1;33m)\u001b[0m\u001b[1;33m\u001b[0m\u001b[0m\n\u001b[1;32m--> 144\u001b[1;33m                                 \u001b[0mfnode\u001b[0m\u001b[1;33m.\u001b[0m\u001b[0mset_attributes\u001b[0m\u001b[1;33m(\u001b[0m\u001b[1;33m{\u001b[0m\u001b[1;34m'type'\u001b[0m\u001b[1;33m:\u001b[0m\u001b[0mself\u001b[0m\u001b[1;33m.\u001b[0m\u001b[0mmpf\u001b[0m\u001b[1;33m[\u001b[0m\u001b[0mnode\u001b[0m\u001b[1;33m]\u001b[0m\u001b[1;33m.\u001b[0m\u001b[0mto_numpy\u001b[0m\u001b[1;33m(\u001b[0m\u001b[1;33m)\u001b[0m\u001b[1;33m.\u001b[0m\u001b[0mdtype\u001b[0m\u001b[1;33m,\u001b[0m\u001b[1;34m'shape'\u001b[0m\u001b[1;33m:\u001b[0m\u001b[1;36m1\u001b[0m\u001b[1;33m}\u001b[0m\u001b[1;33m)\u001b[0m\u001b[1;33m\u001b[0m\u001b[0m\n\u001b[0m\u001b[0;32m    145\u001b[0m                                 \u001b[0mmapped\u001b[0m\u001b[1;33m.\u001b[0m\u001b[0mappend\u001b[0m\u001b[1;33m(\u001b[0m\u001b[0mnode\u001b[0m\u001b[1;33m)\u001b[0m\u001b[1;33m\u001b[0m\u001b[0m\n\u001b[0;32m    146\u001b[0m                                 \u001b[0mself\u001b[0m\u001b[1;33m.\u001b[0m\u001b[0minternal_graph\u001b[0m\u001b[1;33m.\u001b[0m\u001b[0mupdate_color\u001b[0m\u001b[1;33m(\u001b[0m\u001b[0mnode\u001b[0m\u001b[1;33m)\u001b[0m\u001b[1;33m\u001b[0m\u001b[0m\n",
      "\u001b[1;32m~\\Anaconda3\\lib\\site-packages\\pandas\\core\\generic.py\u001b[0m in \u001b[0;36m__getattr__\u001b[1;34m(self, name)\u001b[0m\n\u001b[0;32m   4374\u001b[0m             \u001b[1;32mif\u001b[0m \u001b[0mself\u001b[0m\u001b[1;33m.\u001b[0m\u001b[0m_info_axis\u001b[0m\u001b[1;33m.\u001b[0m\u001b[0m_can_hold_identifiers_and_holds_name\u001b[0m\u001b[1;33m(\u001b[0m\u001b[0mname\u001b[0m\u001b[1;33m)\u001b[0m\u001b[1;33m:\u001b[0m\u001b[1;33m\u001b[0m\u001b[0m\n\u001b[0;32m   4375\u001b[0m                 \u001b[1;32mreturn\u001b[0m \u001b[0mself\u001b[0m\u001b[1;33m[\u001b[0m\u001b[0mname\u001b[0m\u001b[1;33m]\u001b[0m\u001b[1;33m\u001b[0m\u001b[0m\n\u001b[1;32m-> 4376\u001b[1;33m             \u001b[1;32mreturn\u001b[0m \u001b[0mobject\u001b[0m\u001b[1;33m.\u001b[0m\u001b[0m__getattribute__\u001b[0m\u001b[1;33m(\u001b[0m\u001b[0mself\u001b[0m\u001b[1;33m,\u001b[0m \u001b[0mname\u001b[0m\u001b[1;33m)\u001b[0m\u001b[1;33m\u001b[0m\u001b[0m\n\u001b[0m\u001b[0;32m   4377\u001b[0m \u001b[1;33m\u001b[0m\u001b[0m\n\u001b[0;32m   4378\u001b[0m     \u001b[1;32mdef\u001b[0m \u001b[0m__setattr__\u001b[0m\u001b[1;33m(\u001b[0m\u001b[0mself\u001b[0m\u001b[1;33m,\u001b[0m \u001b[0mname\u001b[0m\u001b[1;33m,\u001b[0m \u001b[0mvalue\u001b[0m\u001b[1;33m)\u001b[0m\u001b[1;33m:\u001b[0m\u001b[1;33m\u001b[0m\u001b[0m\n",
      "\u001b[1;31mAttributeError\u001b[0m: 'Series' object has no attribute 'to_numpy'"
     ]
    }
   ],
   "source": [
    "mpf=pd.read_table(os.path.join(in_folder,mpf_file),header=0)\n",
    "# mpf=pd.read_parquet(os.path.join(in_folder,mpf_file10k))\n",
    "def cp_type(x):\n",
    "    if x[:1]==\"A\":\n",
    "        return 0\n",
    "    elif x[:2]==\"L-\":\n",
    "        return 1\n",
    "    elif x[:2]==\"Le\":\n",
    "        return 2\n",
    "    else:\n",
    "        return 999999\n",
    "def cp_type_adj(x):\n",
    "    if x[:1]==\"A\":\n",
    "        return 0\n",
    "    elif x[:2]==\"L-\":\n",
    "        return 1\n",
    "    elif x[:2]==\"Le\":\n",
    "        return 2\n",
    "    elif x[:2]==\"J-\":\n",
    "        return 3\n",
    "    else:\n",
    "        return 999999\n",
    "mpf=mpf.assign(BASE_PROD_CODE_patch=mpf['BASE_PROD_CODE'].str.split('_').str.get(-1).astype(np.int64)\n",
    "            ,CP_TYPE_ADJ_patch=mpf['CP_TYPE_ADJ'].apply(cp_type_adj)\n",
    "            , CP_TYPE_patch=mpf['CP_TYPE'].apply(cp_type)\n",
    "            , ISS_YR_IDX=999999)\n",
    "a.add_source_mpf(mpf)"
   ]
  },
  {
   "cell_type": "code",
   "execution_count": 20,
   "metadata": {},
   "outputs": [
    {
     "name": "stdout",
     "output_type": "stream",
     "text": [
      "Processing tables. 61 unmapped variables to start with.\n",
      "Processed tables. 26 new variables mapped.\n",
      "Processing tables. 35 unmapped variables to start with.\n",
      "Processed tables. 14 new variables mapped.\n"
     ]
    }
   ],
   "source": [
    "a.add_source_tables(pd.read_excel(os.path.join(in_folder,tables_be_file),sheet_name=None))\n",
    "a.add_source_tables(pd.read_excel(os.path.join(in_folder,tables_file),sheet_name=None))"
   ]
  },
  {
   "cell_type": "code",
   "execution_count": 21,
   "metadata": {},
   "outputs": [
    {
     "name": "stdout",
     "output_type": "stream",
     "text": [
      "Processing constants. 21 unmapped variables to start with.\n",
      "Processed tables. 21 new variables mapped.\n"
     ]
    }
   ],
   "source": [
    "CONSTANTS={\n",
    "    'max_incidence_lkup_age': 126,\n",
    "    'max_mort_sel_lkup_yr': 25,\n",
    "    'max_lapse_lkup_yr': 21,\n",
    "    'min_ppia_pc_lkup_yr':1998,\n",
    "    'max_ppia_pc_lkup_yr':2017,\n",
    "    'val_yr':2017,\n",
    "    'val_mth':12,\n",
    "    'BE_INDEX':2,\n",
    "    'COMM_LIMIT_ADJ_index':1,\n",
    "    'IC_PERIOD_M':12,\n",
    "    'MIN_TAX_LKUP_Y':1996,\n",
    "    'MAX_TAX_LKUP_Y':2020,\n",
    "    'MAX_COMM_MILE_M':120,\n",
    "    'COMM_MILE_FAC':0.25,\n",
    "    'RC_START_M':13,\n",
    "    'MIN_COMM_ID':5,\n",
    "    'M_DISC_RATE':(1+0.06)**(1/12)-1,\n",
    "    't_range':1200,\n",
    "    'SPIKE_RATE_PERIOD_INDEX':1,\n",
    "    'MORT_PAD_PC':0,\n",
    "    'DEC_WOP_PAD_PC':0,\n",
    "    'MAX_EXP_LKUP_Y':20,\n",
    "    'ASSPT_BE_index':1,\n",
    "    'COM_YEAR_END':3,\n",
    "    'COMM_CB_ST_YM':201510,\n",
    "    'COMM_CB_ADJ_RATE':0.4,\n",
    "    'MAX_COMM_CB_M':48\n",
    "}\n",
    "a.add_source_constants(CONSTANTS)"
   ]
  },
  {
   "cell_type": "code",
   "execution_count": null,
   "metadata": {
    "collapsed": true,
    "scrolled": false
   },
   "outputs": [],
   "source": [
    "#This line only works in Linux and Mac currently. \n",
    "# SVG(a.visualise(target_node='COMM_MILAGE_RATE',format='png'))"
   ]
  },
  {
   "cell_type": "code",
   "execution_count": 22,
   "metadata": {
    "scrolled": true
   },
   "outputs": [
    {
     "name": "stdout",
     "output_type": "stream",
     "text": [
      "Caching:  LAPSE_PAD_PC\n",
      "Initialising:  LAPSE_PAD_PC\n",
      "Caching:  SPIKE_LAPSE_PERIOD2\n",
      "Initialising:  SPIKE_LAPSE_PERIOD2\n",
      "Caching:  LAPSE_CHAN_IDX\n",
      "Initialising:  LAPSE_CHAN_IDX\n",
      "Caching:  COMM_CB_CODE_patch\n",
      "Initialising:  COMM_CB_CODE_patch\n",
      "Caching:  REN_COMM_S_AG_FAC\n",
      "Initialising:  REN_COMM_S_AG_FAC\n",
      "Caching:  COMM_S_AG_FAC\n",
      "Initialising:  COMM_S_AG_FAC\n",
      "Caching:  REN_COMM_AG_FAC_1_derived\n",
      "Initialising:  REN_COMM_AG_FAC_1_derived\n",
      "Caching:  COMM_AG_FAC_1_derived\n",
      "Initialising:  COMM_AG_FAC_1_derived\n",
      "Caching:  MORT_SMK_IDX\n",
      "Initialising:  MORT_SMK_IDX\n",
      "Caching:  WOP_EXP_SEX_IDX\n",
      "Initialising:  WOP_EXP_SEX_IDX\n",
      "Caching:  WOP_SEX_IDX\n",
      "Initialising:  WOP_SEX_IDX\n",
      "Caching:  MORT_RATE_MAX_AGE\n",
      "Initialising:  MORT_RATE_MAX_AGE\n",
      "Caching:  MORT_SEX_IDX\n",
      "Initialising:  MORT_SEX_IDX\n",
      "Caching:  MORT_SEL_SEX_IDX\n",
      "Initialising:  MORT_SEL_SEX_IDX\n",
      "Caching:  PREM_FREQ\n",
      "Initialising:  PREM_FREQ\n",
      "Caching:  COMM_MILE_PC_derived\n",
      "Initialising:  COMM_MILE_PC_derived\n",
      "Caching:  IC_ADD_SPEC_PC_derived\n",
      "Initialising:  IC_ADD_SPEC_PC_derived\n",
      "Caching:  IC_ADD_BASE_PC_derived\n",
      "Initialising:  IC_ADD_BASE_PC_derived\n",
      "Caching:  SP_IND\n",
      "Initialising:  SP_IND\n",
      "Caching:  COMM_LIMIT_TYPE_derived\n",
      "Initialising:  COMM_LIMIT_TYPE_derived\n",
      "Caching:  REN_COMM_S_RATE\n",
      "Initialising:  REN_COMM_S_RATE\n",
      "Caching:  COMM_S_RATE\n",
      "Initialising:  COMM_S_RATE\n",
      "Caching:  LAPSE_PREMIUM_FREQ_IDX\n",
      "Initialising:  LAPSE_PREMIUM_FREQ_IDX\n",
      "Caching:  COMM_ADJ_MULT\n",
      "Initialising:  COMM_ADJ_MULT\n",
      "Caching:  ANN_TERM_Y\n",
      "Initialising:  ANN_TERM_Y\n",
      "Caching:  COMM_MILAGE_RATE\n",
      "Initialising:  COMM_MILAGE_RATE\n",
      "Caching:  REN_T\n",
      "Initialising:  REN_T\n",
      "Caching:  COMM_RECOV_PC\n",
      "Initialising:  COMM_RECOV_PC\n",
      "Caching:  PREM_FRAC_PP\n",
      "Initialising:  PREM_FRAC_PP\n",
      "Caching:  SUM_ASSURED2\n",
      "Initialising:  SUM_ASSURED2\n",
      "Caching:  MATURITY_RATE\n",
      "Initialising:  MATURITY_RATE\n",
      "Caching:  POL_YR\n",
      "Initialising:  POL_YR\n",
      "Caching:  COMM_CB_ADJ\n",
      "Initialising:  COMM_CB_ADJ\n",
      "Caching:  REN_POL_YR\n",
      "Initialising:  REN_POL_YR\n",
      "Caching:  COMM_PAY_ADJ\n",
      "Initialising:  COMM_PAY_ADJ\n",
      "Caching:  COMM_CAP_AG_FAC\n",
      "Initialising:  COMM_CAP_AG_FAC\n",
      "Caching:  BASE_COMM_CAP_RATE\n",
      "Initialising:  BASE_COMM_CAP_RATE\n",
      "Caching:  COMM_CAP_RATE\n",
      "Initialising:  COMM_CAP_RATE\n",
      "Caching:  COMM_CAP\n",
      "Initialising:  COMM_CAP\n",
      "Caching:  COMM_MODAL_FAC\n",
      "Initialising:  COMM_MODAL_FAC\n",
      "Caching:  COMM_INCT_RATE_PC\n",
      "Initialising:  COMM_INCT_RATE_PC\n",
      "Caching:  COMM_RATE_PC\n",
      "Initialising:  COMM_RATE_PC\n",
      "Caching:  ANN_PREM_PP\n",
      "Initialising:  ANN_PREM_PP\n",
      "Caching:  PREM_INC_PP\n",
      "Initialising:  PREM_INC_PP\n",
      "Caching:  IC_INCT_PAYBL_PP\n",
      "Initialising:  IC_INCT_PAYBL_PP\n",
      "Caching:  PPIA_OFFSET_RATE\n",
      "Initialising:  PPIA_OFFSET_RATE\n",
      "Caching:  WOP_EXP_FAC_BE_col\n",
      "Initialising:  WOP_EXP_FAC_BE_col\n",
      "Caching:  DECREMENT_WOP_EXPERIENCE\n",
      "Initialising:  DECREMENT_WOP_EXPERIENCE\n",
      "Caching:  MORTALITY_SELECTION_FACTOR_col\n",
      "Initialising:  MORTALITY_SELECTION_FACTOR_col\n",
      "Caching:  MORTALITY_SELECTION_FACTOR\n",
      "Initialising:  MORTALITY_SELECTION_FACTOR\n",
      "Caching:  POLICY_YR_RESET_AT_RENEWAL\n",
      "Initialising:  POLICY_YR_RESET_AT_RENEWAL\n",
      "Caching:  BASE_LAPSE_RATES\n",
      "Initialising:  BASE_LAPSE_RATES\n",
      "Caching:  REMAINING_PREMIUM_TERM\n",
      "Initialising:  REMAINING_PREMIUM_TERM\n",
      "Caching:  LAPSE_SPIKE_RATE\n",
      "Initialising:  LAPSE_SPIKE_RATE\n",
      "Caching:  SPIKE_ADJUSTED_LAPSE_RATE\n",
      "Initialising:  SPIKE_ADJUSTED_LAPSE_RATE\n",
      "Caching:  ATTAINED_AGE_Y\n",
      "Initialising:  ATTAINED_AGE_Y\n",
      "Caching:  ATTAINED_AGE\n",
      "Initialising:  ATTAINED_AGE\n",
      "Caching:  BASE_DECREMENT_WOP_RATE\n",
      "Initialising:  BASE_DECREMENT_WOP_RATE\n",
      "Caching:  MORT_AGE_col\n",
      "Initialising:  MORT_AGE_col\n",
      "Caching:  BASE_DEATH_RATES\n",
      "Initialising:  BASE_DEATH_RATES\n",
      "Caching:  POL_MTH\n",
      "Initialising:  POL_MTH\n",
      "Caching:  COMM_RATE_ACCUM_PC\n",
      "Initialising:  COMM_RATE_ACCUM_PC\n",
      "Caching:  COMM_RATE_BEFORE_ROUND\n",
      "Initialising:  COMM_RATE_BEFORE_ROUND\n",
      "Caching:  COMM_RATE_ADJ_PC\n",
      "Initialising:  COMM_RATE_ADJ_PC\n",
      "Caching:  IC_BASE_PAYBL_PP\n",
      "Initialising:  IC_BASE_PAYBL_PP\n",
      "Caching:  COMM_MILAGE_BEFORE_TAX\n",
      "Initialising:  COMM_MILAGE_BEFORE_TAX\n",
      "Caching:  IC_ADD_PAYBL_PP\n",
      "Initialising:  IC_ADD_PAYBL_PP\n",
      "Caching:  INITIAL_COMM_BEFORE_TAX\n",
      "Initialising:  INITIAL_COMM_BEFORE_TAX\n",
      "Caching:  RC_BASE_PAYBL_PP\n",
      "Initialising:  RC_BASE_PAYBL_PP\n",
      "Caching:  RENEW_COMM_BEFORE_TAX\n",
      "Initialising:  RENEW_COMM_BEFORE_TAX\n",
      "Caching:  FISCAL_MONTH\n",
      "Initialising:  FISCAL_MONTH\n",
      "Caching:  CALENDAR_MONTH\n",
      "Initialising:  CALENDAR_MONTH\n",
      "Caching:  CALENDAR_YEAR\n",
      "Initialising:  CALENDAR_YEAR\n",
      "Caching:  COMM_BON_PC_derived\n",
      "Initialising:  COMM_BON_PC_derived\n",
      "Caching:  FISCAL_YEAR\n",
      "Initialising:  FISCAL_YEAR\n",
      "Caching:  CONSUMPTION_TAX_PC_derived\n",
      "Initialising:  CONSUMPTION_TAX_PC_derived\n",
      "Caching:  MM_MILE_PAYBL\n",
      "Initialising:  MM_MILE_PAYBL\n",
      "Caching:  IC_PAYBL_PP\n",
      "Initialising:  IC_PAYBL_PP\n",
      "Caching:  PARTIAL_INIT_COMM_EARNED\n",
      "Initialising:  PARTIAL_INIT_COMM_EARNED\n",
      "Caching:  RC_PAYBL_PP\n",
      "Initialising:  RC_PAYBL_PP\n",
      "Caching:  PARTIAL_RENEW_COMM_EARNED\n",
      "Initialising:  PARTIAL_RENEW_COMM_EARNED\n",
      "Caching:  COMPANY_YEAR\n",
      "Initialising:  COMPANY_YEAR\n",
      "Caching:  PPIA_DISCOUNT_RATE\n",
      "Initialising:  PPIA_DISCOUNT_RATE\n",
      "Caching:  PREPAID_PREMIUM_PRESENT_VALUE\n",
      "Initialising:  PREPAID_PREMIUM_PRESENT_VALUE\n",
      "Caching:  PPIA_INCOME_RATE\n",
      "Initialising:  PPIA_INCOME_RATE\n",
      "Caching:  DURATIONIF_M\n",
      "Initialising:  DURATIONIF_M\n",
      "Caching:  DECREMENT_WOP_RATES_ANNUAL\n",
      "Initialising:  DECREMENT_WOP_RATES_ANNUAL\n",
      "Caching:  DECREMENT_WOP_RATES_MONTHLY\n",
      "Initialising:  DECREMENT_WOP_RATES_MONTHLY\n",
      "Caching:  DEATH_RATE_ANNUAL\n",
      "Initialising:  DEATH_RATE_ANNUAL\n",
      "Caching:  DEATH_RATE_MONTHLY\n",
      "Initialising:  DEATH_RATE_MONTHLY\n",
      "Caching:  LAPSE_RATE_ANNUAL\n",
      "Initialising:  LAPSE_RATE_ANNUAL\n",
      "Caching:  LAPSE_RATE_MONTHLY\n",
      "Initialising:  LAPSE_RATE_MONTHLY\n",
      "Caching:  HEALTHY_POLICIES\n",
      "Initialising:  HEALTHY_POLICIES\n",
      "Caching:  WP_POLICIES\n",
      "Initialising:  WP_POLICIES\n",
      "Caching:  NO_LAPSE\n",
      "Initialising:  NO_LAPSE\n",
      "Caching:  IC_CLAWED_L\n",
      "Initialising:  IC_CLAWED_L\n",
      "Caching:  RC_CLAWED_L\n",
      "Initialising:  RC_CLAWED_L\n",
      "Caching:  COMM_CLAWED\n",
      "Initialising:  COMM_CLAWED\n",
      "Caching:  COMM_MILE_PAID\n",
      "Initialising:  COMM_MILE_PAID\n",
      "Caching:  RC_PAID\n",
      "Initialising:  RC_PAID\n",
      "Caching:  IC_PAID\n",
      "Initialising:  IC_PAID\n",
      "Caching:  TOT_COMM\n",
      "Initialising:  TOT_COMM\n",
      "Caching:  DISC_TOT_COMM\n",
      "Initialising:  DISC_TOT_COMM\n",
      "Caching:  NO_POLS_IFSM\n",
      "Initialising:  NO_POLS_IFSM\n",
      "Caching:  PPIA_OFFSET_IF\n",
      "Initialising:  PPIA_OFFSET_IF\n",
      "Caching:  PPIA_INC_IF\n",
      "Initialising:  PPIA_INC_IF\n",
      "Caching:  PREM_INC\n",
      "Initialising:  PREM_INC\n",
      "Caching:  DISC_PREM_INC\n",
      "Initialising:  DISC_PREM_INC\n",
      "Wall time: 3min 21s\n"
     ]
    }
   ],
   "source": [
    "%%time\n",
    "#This line will take *minutes* the first time it is run on a machine. Should be very fast after that.\n",
    "a.initialise()\n"
   ]
  },
  {
   "cell_type": "code",
   "execution_count": 23,
   "metadata": {},
   "outputs": [
    {
     "name": "stdout",
     "output_type": "stream",
     "text": [
      "Wall time: 52.2 s\n"
     ]
    }
   ],
   "source": [
    "%%time\n",
    "#This will take 10-20 seconds regardless of number of policies the first time it is run on a machine\n",
    "#Subsequent runs should be at full speed.\n",
    "a.execute(dokeep=set(['sum_DISC_PREM_INC','DISC_PREM_INC','DISC_TOT_COMM']))"
   ]
  },
  {
   "cell_type": "code",
   "execution_count": 24,
   "metadata": {
    "scrolled": true
   },
   "outputs": [
    {
     "data": {
      "text/plain": [
       "{'DEC_WOP_EXP_CODE': 0.001995086669921875,\n",
       " 'DEC_WOP_IND': 0.002961874008178711,\n",
       " 'DEC_WOP_SEX_IND': 0.0029861927032470703,\n",
       " 'MORT_SEX_IND': 0.002991914749145508,\n",
       " 'MORT_SEL_SEX_IND': 0.002991914749145508,\n",
       " 'PPIA_DISC_PC': 0.0029921531677246094,\n",
       " 'MORT_SEL_CODE': 0.002992391586303711,\n",
       " 'LAPSE_CHAN_IND': 0.0030241012573242188,\n",
       " 'JUV_IND': 0.003959178924560547,\n",
       " 'DEC_WOP_CODE': 0.003988742828369141,\n",
       " 'SPIKE_RATE_IND': 0.003989458084106445,\n",
       " 'COMM_ADJ_MULT_TYPE': 0.003989696502685547,\n",
       " 'MORT_CODE': 0.00399017333984375,\n",
       " 'MORT_SMK_IND': 0.0039958953857421875,\n",
       " 'LAPSE_CODE': 0.003996372222900391,\n",
       " 'REN_RATE': 0.004019737243652344,\n",
       " 'ANN_RATE': 0.004981279373168945,\n",
       " 'LAPSE_PAD_CODE': 0.004983663558959961,\n",
       " 'IC_ADD_BASE_IND': 0.004986286163330078,\n",
       " 'IC_ADD_BASE_PC': 0.00498652458190918,\n",
       " 'IC_ADD_SPEC_IND': 0.004987239837646484,\n",
       " 'MAX_COMM_PAYBL_Y': 0.004989147186279297,\n",
       " 'SPIKE_LAPSE_PERIOD': 0.0049896240234375,\n",
       " 'COMM_LIMIT_ADJ': 0.005021095275878906,\n",
       " 'LAPSE_PREM_FREQ_IND': 0.005983829498291016,\n",
       " 'UB_PT': 0.005984067916870117,\n",
       " 'SPIKE_RATE_BE': 0.005984306335449219,\n",
       " 'MORT_SEL_FAC_BE': 0.006982326507568359,\n",
       " 'MORT_RATE_BE': 0.0070133209228515625,\n",
       " 'IC_ADD_SPEC_PC': 0.007977724075317383,\n",
       " 'COMM_MILE_PC_IND': 0.007978677749633789,\n",
       " 'COMM_LIMIT_TYPE': 0.007980108261108398,\n",
       " 'WOP_RATE_BE': 0.007986068725585938,\n",
       " 'DEC_WOP_EXP_SEX_IND': 0.008008480072021484,\n",
       " 'Summary_PROD_CODE': 0.01629185676574707,\n",
       " 'COMM_MILE_PC': 0.016955852508544922,\n",
       " 'REN_COMM_S_RATE': 0.021908044815063477,\n",
       " 'COMM_MILAGE_RATE': 0.021942138671875,\n",
       " 'CALENDAR_YEAR': 0.02194499969482422,\n",
       " 'CALENDAR_MONTH': 0.02197122573852539,\n",
       " 'REN_COMM_S_AG_FAC': 0.02290511131286621,\n",
       " 'PREM_INC': 0.022932052612304688,\n",
       " 'COMM_CAP': 0.022938251495361328,\n",
       " 'WOP_EXP_FAC_BE_col': 0.022938251495361328,\n",
       " 'REN_T': 0.02293872833251953,\n",
       " 'POL_YR': 0.022939682006835938,\n",
       " 'REN_POL_YR': 0.02293992042541504,\n",
       " 'IC_BASE_PAYBL_PP': 0.02294301986694336,\n",
       " 'COMM_RATE_ACCUM_PC': 0.02295827865600586,\n",
       " 'DECREMENT_WOP_RATES_MONTHLY': 0.022965192794799805,\n",
       " 'ANN_TERM_Y': 0.02297234535217285,\n",
       " 'DISC_TOT_COMM': 0.02330780029296875,\n",
       " 'FISCAL_MONTH': 0.023909568786621094,\n",
       " 'NO_POLS_IFSM': 0.02391195297241211,\n",
       " 'COMM_RATE_BEFORE_ROUND': 0.02392101287841797,\n",
       " 'POL_MTH': 0.023931264877319336,\n",
       " 'ATTAINED_AGE': 0.023934602737426758,\n",
       " 'IC_CLAWED_L': 0.02393507957458496,\n",
       " 'COMM_S_RATE': 0.023935317993164062,\n",
       " 'PPIA_DISCOUNT_RATE': 0.023936033248901367,\n",
       " 'COMM_CB_ADJ': 0.023936748504638672,\n",
       " 'COMPANY_YEAR': 0.023936748504638672,\n",
       " 'IC_ADD_PAYBL_PP': 0.023937225341796875,\n",
       " 'PARTIAL_RENEW_COMM_EARNED': 0.02393794059753418,\n",
       " 'COMM_S_AG_FAC': 0.023938655853271484,\n",
       " 'LAPSE_RATE_ANNUAL': 0.023938655853271484,\n",
       " 'DEATH_RATE_MONTHLY': 0.023966073989868164,\n",
       " 'COMM_AG_FAC_1_derived': 0.023970603942871094,\n",
       " 'REN_COMM_AG_FAC_1_derived': 0.0240781307220459,\n",
       " 'COMM_RATE_ADJ_PC': 0.024905681610107422,\n",
       " 'REMAINING_PREMIUM_TERM': 0.02492237091064453,\n",
       " 'PREM_FRAC_PP': 0.024929285049438477,\n",
       " 'COMM_MILAGE_BEFORE_TAX': 0.02493119239807129,\n",
       " 'FISCAL_YEAR': 0.024931907653808594,\n",
       " 'MATURITY_RATE': 0.024932146072387695,\n",
       " 'LAPSE_RATE_MONTHLY': 0.024932146072387695,\n",
       " 'ATTAINED_AGE_Y': 0.024933815002441406,\n",
       " 'MORT_RATE_MAX_AGE': 0.02493429183959961,\n",
       " 'COMM_MILE_PAID': 0.02493429183959961,\n",
       " 'RC_CLAWED_L': 0.024934768676757812,\n",
       " 'PREPAID_PREMIUM_PRESENT_VALUE': 0.024935483932495117,\n",
       " 'PPIA_OFFSET_IF': 0.02493596076965332,\n",
       " 'PPIA_INC_IF': 0.02493882179260254,\n",
       " 'RENEW_COMM_BEFORE_TAX': 0.024959087371826172,\n",
       " 'MORTALITY_SELECTION_FACTOR': 0.024965763092041016,\n",
       " 'MORTALITY_SELECTION_FACTOR_col': 0.025319576263427734,\n",
       " 'NO_LAPSE': 0.02592182159423828,\n",
       " 'DURATIONIF_M': 0.02592921257019043,\n",
       " 'RC_PAID': 0.025929689407348633,\n",
       " 'BASE_DEATH_RATES': 0.025931119918823242,\n",
       " 'SUM_ASSURED2': 0.025933265686035156,\n",
       " 'DEATH_RATE_ANNUAL': 0.025933504104614258,\n",
       " 'PPIA_INCOME_RATE': 0.025934457778930664,\n",
       " 'DISC_PREM_INC': 0.02596735954284668,\n",
       " 'RC_BASE_PAYBL_PP': 0.02601480484008789,\n",
       " 'INITIAL_COMM_BEFORE_TAX': 0.026717185974121094,\n",
       " 'TOT_COMM': 0.02692389488220215,\n",
       " 'PREM_FREQ': 0.02891087532043457,\n",
       " 'PARTIAL_INIT_COMM_EARNED': 0.028922319412231445,\n",
       " 'RC_PAYBL_PP': 0.028922557830810547,\n",
       " 'PPIA_OFFSET_RATE': 0.028923988342285156,\n",
       " 'IC_PAID': 0.028929471969604492,\n",
       " 'IC_INCT_PAYBL_PP': 0.029921293258666992,\n",
       " 'PREM_INC_PP': 0.029921531677246094,\n",
       " 'COMM_PAY_ADJ': 0.02995014190673828,\n",
       " 'COMM_CB_CODE_patch': 0.030822277069091797,\n",
       " 'MM_MILE_PAYBL': 0.031916141510009766,\n",
       " 'WP_POLICIES': 0.03272604942321777,\n",
       " 'SP_IND': 0.03291153907775879,\n",
       " 'IC_PAYBL_PP': 0.03291583061218262,\n",
       " 'POLICY_YR_RESET_AT_RENEWAL': 0.03387880325317383,\n",
       " 'ANN_PREM_PP': 0.03490591049194336,\n",
       " 'COMM_CLAWED': 0.03590536117553711,\n",
       " 'COMM_BON_PC_derived': 0.03590798377990723,\n",
       " 'WOP_EXP_FAC_BE': 0.48575448989868164,\n",
       " 'LAPSE_RATE_BE': 0.5918843746185303,\n",
       " 'CONSUMPTION_TAX_PC': 0.5954294204711914,\n",
       " 'COMM_BON_BE': 0.6682355403900146,\n",
       " 'HEALTHY_POLICIES': 0.6773407459259033,\n",
       " 'COMM_CB_RATE': 1.035506248474121,\n",
       " 'COMM_ADJ_MULT': 1.2072467803955078,\n",
       " 'IC_ADD_SPEC_PC_derived': 1.2492475509643555,\n",
       " 'LAPSE_PAD_PC': 1.2797510623931885,\n",
       " 'COMM_MILE_PC_derived': 1.2842237949371338,\n",
       " 'WOP_SEX_IDX': 1.2964465618133545,\n",
       " 'LAPSE_CHAN_IDX': 1.302671194076538,\n",
       " 'WOP_EXP_SEX_IDX': 1.339585781097412,\n",
       " 'MORT_SMK_IDX': 1.3426988124847412,\n",
       " 'SPIKE_LAPSE_PERIOD2': 1.3645637035369873,\n",
       " 'MORT_AGE_col': 1.3839294910430908,\n",
       " 'LAPSE_PREMIUM_FREQ_IDX': 1.4090912342071533,\n",
       " 'COMM_MODAL_FAC': 1.4225554466247559,\n",
       " 'MORT_SEX_IDX': 1.489819049835205,\n",
       " 'COMM_LIMIT_TYPE_derived': 1.5035853385925293,\n",
       " 'MORT_SEL_SEX_IDX': 1.551281213760376,\n",
       " 'COMM_RATE_PC': 1.5678298473358154,\n",
       " 'BASE_DECREMENT_WOP_RATE': 1.5958137512207031,\n",
       " 'BASE_COMM_CAP_RATE': 1.600778341293335,\n",
       " 'BASE_LAPSE_RATES': 1.602344036102295,\n",
       " 'IC_ADD_BASE_PC_derived': 1.6113507747650146,\n",
       " 'COMM_CAP_AG_FAC': 1.7032833099365234,\n",
       " 'DECREMENT_WOP_EXPERIENCE': 1.7606022357940674,\n",
       " 'LAPSE_SPIKE_RATE': 1.7994787693023682,\n",
       " 'COMM_INCT_RATE_PC': 1.856088399887085,\n",
       " 'SPIKE_ADJUSTED_LAPSE_RATE': 1.968977689743042,\n",
       " 'DECREMENT_WOP_RATES_ANNUAL': 2.034254312515259,\n",
       " 'COMM_CAP_RATE': 2.0741512775421143,\n",
       " 'CONSUMPTION_TAX_PC_derived': 2.1012299060821533,\n",
       " 'COMM_RECOV_PC': 2.181718349456787}"
      ]
     },
     "execution_count": 24,
     "metadata": {},
     "output_type": "execute_result"
    }
   ],
   "source": [
    "#This code helps the developer understand which functions take how much time\n",
    "{k: v for k, v in sorted(a.timings.items(), key=lambda item: item[1])}"
   ]
  },
  {
   "cell_type": "code",
   "execution_count": 25,
   "metadata": {},
   "outputs": [
    {
     "data": {
      "text/plain": [
       "array([0.        , 0.        , 0.        , 0.        , 0.        ,\n",
       "       0.        , 0.        , 0.        , 0.        , 0.        ,\n",
       "       0.        , 0.        , 0.        , 0.        , 0.        ,\n",
       "       0.        , 0.        , 0.        , 0.        , 0.        ,\n",
       "       0.        , 0.        , 0.        , 0.        , 0.        ,\n",
       "       0.        , 0.        , 0.        , 0.        , 0.        ,\n",
       "       0.        , 0.        , 0.        , 0.        , 0.        ,\n",
       "       0.        , 0.        , 0.        , 0.        , 0.        ,\n",
       "       0.        , 0.        , 0.81298727, 0.80754902, 0.80213464,\n",
       "       0.79674399, 0.7913769 , 0.78603324, 0.78071285, 0.77541557,\n",
       "       0.77013726, 0.7648778 , 0.75963706, 0.7544149 , 0.74921121,\n",
       "       0.74402585, 0.73885871, 0.73370966, 0.72857856, 0.72346531,\n",
       "       0.71836976, 0.71329181, 0.70823135, 0.70318825, 0.69816239,\n",
       "       0.69315365, 0.68816191, 0.68318704, 0.67822894, 0.67328747,\n",
       "       0.66836252, 0.66345396, 0.65856169, 0.65368558, 0.64882837,\n",
       "       0.64398994, 0.63917014, 0.63436886, 0.62958595, 0.62482129,\n",
       "       0.62007475, 0.61534619, 0.61063549, 0.60594252, 0.60126715,\n",
       "       0.59660925, 0.59197477, 0.58736353, 0.58277537, 0.57821013])"
      ]
     },
     "execution_count": 25,
     "metadata": {},
     "output_type": "execute_result"
    }
   ],
   "source": [
    "#You can access the calculated values as numpy arrays in this manner\n",
    "#You will need to ensure the variable you want is \"kept\" in the dokeep option in the execute function (see above)\n",
    "a.vals['DISC_PREM_INC'][19,:90]"
   ]
  },
  {
   "cell_type": "code",
   "execution_count": null,
   "metadata": {
    "collapsed": true
   },
   "outputs": [],
   "source": []
  }
 ],
 "metadata": {
  "kernelspec": {
   "display_name": "Python 3",
   "language": "python",
   "name": "python3"
  },
  "language_info": {
   "codemirror_mode": {
    "name": "ipython",
    "version": 3
   },
   "file_extension": ".py",
   "mimetype": "text/x-python",
   "name": "python",
   "nbconvert_exporter": "python",
   "pygments_lexer": "ipython3",
   "version": "3.8.5"
  }
 },
 "nbformat": 4,
 "nbformat_minor": 2
}
