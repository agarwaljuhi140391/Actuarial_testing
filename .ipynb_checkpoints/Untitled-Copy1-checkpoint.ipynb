{
 "cells": [
  {
   "cell_type": "code",
   "execution_count": 1,
   "metadata": {},
   "outputs": [],
   "source": [
    "#model script to provide outputs\n",
    "import os\n",
    "import sys\n",
    "import pandas as pd\n",
    "import numpy as np\n",
    "from src.dais.models.traditional2 import TraditionalLifeFunctions\n",
    "from src.dais.models.common3 import BaseModel, BondModel\n",
    "import abc\n",
    "from src import dais\n",
    "sys.path.insert(0, os.path.join(os.getcwd() + '/src'))"
   ]
  },
  {
   "cell_type": "code",
   "execution_count": null,
   "metadata": {},
   "outputs": [],
   "source": [
    "import unittest\n",
    "import argparse\n",
    "from model import execute_graph\n",
    "\n",
    "parser = argparse.ArgumentParser(description=\"argument parser\")\n",
    "parser.add_argument(\"--test_data_folder\", type = str, default = str(os.getcwd()) + '/test_data_folder', required=False, help=\"specify folder path of test data\")\n",
    "parser.add_argument(\"--ground_truth_filename\", type = str, default = 'ground_truth.csv', required=False, help=\"specify csv filename that contains groundtruth\""
   ]
  },
  {
   "cell_type": "code",
   "execution_count": null,
   "metadata": {},
   "outputs": [],
   "source": [
    "if __name__ == '__main__':\n",
    "    #args = parser.parse_args()\n",
    "    df1 = pd.read_excel(args.ground_truth_filename, 'static', header=None)\n",
    "    td1={}\n",
    "    for i in range(len(df1)):\n",
    "        td1[df1.iloc[i,0]] = df1.iloc[i,1]\n",
    "    df2 = dict(pd.read_excel(args.ground_truth_filename, 'dynamic'))\n",
    "    td2 = {key:df2[key].values[:1200].reshape(1,1200) for key in df2.keys()}\n",
    "    td = {**td1, **td2}\n",
    "    g = execute_graph(args.test_data_folder)\n",
    "    d = g.get_outputs()\n",
    "    unittest.main()"
   ]
  },
  {
   "cell_type": "code",
   "execution_count": null,
   "metadata": {},
   "outputs": [],
   "source": [
    "class ExceptionTest(unittest.TestCase):\n",
    "    def __init__(self,d,td):\n",
    "        self.d=d\n",
    "        self.td=td\n",
    "        self.match = {}\n",
    "    def test_run(self):\n",
    "        for key in self.td.keys():\n",
    "            if np.array_equal(self.td.get(key),self.d.get(key).squeeze()):\n",
    "                self.match[key]==1\n",
    "            else:\n",
    "                self.match[key]==0                \n",
    "        match_keys = [key for key in self.td.keys() if self.match[key]==1]\n",
    "        self.assertTrue(len(match_keys)==len(self.td.keys()))"
   ]
  },
  {
   "cell_type": "code",
   "execution_count": 94,
   "metadata": {},
   "outputs": [],
   "source": [
    "td = {**td1, **td2}\n"
   ]
  },
  {
   "cell_type": "code",
   "execution_count": 96,
   "metadata": {},
   "outputs": [
    {
     "data": {
      "text/plain": [
       "230"
      ]
     },
     "execution_count": 96,
     "metadata": {},
     "output_type": "execute_result"
    }
   ],
   "source": [
    "len(d.keys())"
   ]
  },
  {
   "cell_type": "code",
   "execution_count": 98,
   "metadata": {},
   "outputs": [
    {
     "data": {
      "text/plain": [
       "array(12, dtype=int32)"
      ]
     },
     "execution_count": 98,
     "metadata": {},
     "output_type": "execute_result"
    }
   ],
   "source": [
    "d['PREM_FREQ'].squeeze()"
   ]
  },
  {
   "cell_type": "code",
   "execution_count": 103,
   "metadata": {},
   "outputs": [
    {
     "data": {
      "text/plain": [
       "False"
      ]
     },
     "execution_count": 103,
     "metadata": {},
     "output_type": "execute_result"
    }
   ],
   "source": [
    "match = {}\n",
    "for key in td.keys():\n",
    "    if np.array_equal(td.get(key),d.get(key).squeeze()):\n",
    "        match[key]=1\n",
    "    else:\n",
    "        match[key]=0\n",
    "match_keys = [key for key in td.keys() if match[key]==1]\n",
    "len(match_keys)==len(td.keys())"
   ]
  },
  {
   "cell_type": "code",
   "execution_count": 104,
   "metadata": {},
   "outputs": [
    {
     "data": {
      "text/plain": [
       "dict_keys(['PREM_FREQ', 'MORT_SMK_IDX', 'IC_PAYBL_PP', 'RC_PAYBL_PP', 'PREM_INC', 'FISCAL_YEAR', 'RC_PAID', 'ANN_PREM_PP'])"
      ]
     },
     "execution_count": 104,
     "metadata": {},
     "output_type": "execute_result"
    }
   ],
   "source": [
    "td.keys()"
   ]
  },
  {
   "cell_type": "code",
   "execution_count": null,
   "metadata": {},
   "outputs": [],
   "source": []
  },
  {
   "cell_type": "code",
   "execution_count": 57,
   "metadata": {},
   "outputs": [],
   "source": [
    "df1 = pd.read_excel('ground_truth.xlsx', 'static', header=None)\n",
    "td1={}\n",
    "for i in range(len(df1)):\n",
    "    td1[df1.iloc[i,0]] = df1.iloc[i,1]\n",
    "df2 = dict(pd.read_excel('ground_truth.xlsx', 'dynamic'))\n",
    "td2 = {key:df2[key].values[:1200].reshape(1,1200) for key in df2.keys()}"
   ]
  },
  {
   "cell_type": "code",
   "execution_count": 68,
   "metadata": {},
   "outputs": [
    {
     "data": {
      "text/plain": [
       "{'PREM_FREQ': 12, 'MORT_SMK_IDX': 0}"
      ]
     },
     "execution_count": 68,
     "metadata": {},
     "output_type": "execute_result"
    }
   ],
   "source": [
    "td1"
   ]
  },
  {
   "cell_type": "code",
   "execution_count": 74,
   "metadata": {},
   "outputs": [
    {
     "data": {
      "text/plain": [
       "array(12, dtype=int32)"
      ]
     },
     "execution_count": 74,
     "metadata": {},
     "output_type": "execute_result"
    }
   ],
   "source": [
    "d['PREM_FREQ'].squeeze()"
   ]
  },
  {
   "cell_type": "code",
   "execution_count": 85,
   "metadata": {},
   "outputs": [
    {
     "data": {
      "text/plain": [
       "False"
      ]
     },
     "execution_count": 85,
     "metadata": {},
     "output_type": "execute_result"
    }
   ],
   "source": [
    "np.array_equal(td2['IC_PAYBL_PP'],d['IC_PAYBL_PP'])"
   ]
  },
  {
   "cell_type": "code",
   "execution_count": 80,
   "metadata": {},
   "outputs": [
    {
     "data": {
      "text/plain": [
       "array(12)"
      ]
     },
     "execution_count": 80,
     "metadata": {},
     "output_type": "execute_result"
    }
   ],
   "source": []
  },
  {
   "cell_type": "code",
   "execution_count": 83,
   "metadata": {},
   "outputs": [
    {
     "data": {
      "text/plain": [
       "True"
      ]
     },
     "execution_count": 83,
     "metadata": {},
     "output_type": "execute_result"
    }
   ],
   "source": [
    "d['PREM_FREQ'].squeeze()==12"
   ]
  },
  {
   "cell_type": "code",
   "execution_count": null,
   "metadata": {},
   "outputs": [],
   "source": [
    "np.array_equal(td1['PREM_FREQ'],d['PREM_FREQ'].squeeze())\n",
    "np.array_equal(td2['IC_PAYBL_PP'],d['IC_PAYBL_PP'])"
   ]
  },
  {
   "cell_type": "code",
   "execution_count": 89,
   "metadata": {},
   "outputs": [
    {
     "data": {
      "text/plain": [
       "True"
      ]
     },
     "execution_count": 89,
     "metadata": {},
     "output_type": "execute_result"
    }
   ],
   "source": [
    "np.array_equal(td2.get('IC_PAYBL_PP')[1:],d.get('IC_PAYBL_PP')[1:].squeeze())"
   ]
  },
  {
   "cell_type": "code",
   "execution_count": null,
   "metadata": {},
   "outputs": [],
   "source": []
  },
  {
   "cell_type": "code",
   "execution_count": 2,
   "metadata": {},
   "outputs": [],
   "source": [
    "class execute_graph(abc.ABC):\n",
    "    def __init__(self,in_folder):\n",
    "        self.a = BaseModel()\n",
    "        self.a.setfuncs(TraditionalLifeFunctions)\n",
    "        self.mpf=pd.read_table(os.path.join(in_folder,'MPF.txt'),header=0)\n",
    "        def cp_type(x):\n",
    "            if x[:1]==\"A\":\n",
    "                return 0\n",
    "            elif x[:2]==\"L-\":\n",
    "                return 1\n",
    "            elif x[:2]==\"Le\":\n",
    "                return 2\n",
    "            else:\n",
    "                return 999999\n",
    "        def cp_type_adj(x):\n",
    "            if x[:1]==\"A\":\n",
    "                return 0\n",
    "            elif x[:2]==\"L-\":\n",
    "                return 1\n",
    "            elif x[:2]==\"Le\":\n",
    "                return 2\n",
    "            elif x[:2]==\"J-\":\n",
    "                return 3\n",
    "            else:\n",
    "                return 999999\n",
    "        self.mpf=self.mpf.assign(BASE_PROD_CODE_patch=self.mpf['BASE_PROD_CODE'].str.split('_').str.get(-1).astype(np.int64)\n",
    "            ,CP_TYPE_ADJ_patch=self.mpf['CP_TYPE_ADJ'].apply(cp_type_adj)\n",
    "            , CP_TYPE_patch=self.mpf['CP_TYPE'].apply(cp_type)\n",
    "            , ISS_YR_IDX=999999)\n",
    "        self.a.add_source_mpf(self.mpf)\n",
    "        self.a.add_source_tables(pd.read_excel(os.path.join(in_folder,'TablesBE.xlsx'),sheet_name=None))\n",
    "        self.a.add_source_tables(pd.read_excel(os.path.join(in_folder,'TablesCommon.xlsx'),sheet_name=None))\n",
    "        CONSTANTS={'max_incidence_lkup_age': 126,\n",
    "                   'max_mort_sel_lkup_yr': 25,\n",
    "                   'max_lapse_lkup_yr': 21,\n",
    "                   'min_ppia_pc_lkup_yr':1998,\n",
    "                   'max_ppia_pc_lkup_yr':2017,\n",
    "                   'val_yr':2017,\n",
    "                   'val_mth':12,\n",
    "                   'BE_INDEX':2,\n",
    "                   'COMM_LIMIT_ADJ_index':1,\n",
    "                   'IC_PERIOD_M':12,\n",
    "                   'MIN_TAX_LKUP_Y':1996,\n",
    "                   'MAX_TAX_LKUP_Y':2020,\n",
    "                   'MAX_COMM_MILE_M':120,\n",
    "                   'COMM_MILE_FAC':0.25,\n",
    "                   'RC_START_M':13,\n",
    "                   'MIN_COMM_ID':5,\n",
    "                   'M_DISC_RATE':(1+0.06)**(1/12)-1,\n",
    "                   't_range':1200,\n",
    "                   'SPIKE_RATE_PERIOD_INDEX':1,\n",
    "                   'MORT_PAD_PC':0,\n",
    "                   'DEC_WOP_PAD_PC':0,\n",
    "                   'MAX_EXP_LKUP_Y':20,\n",
    "                   'ASSPT_BE_index':1,\n",
    "                   'COM_YEAR_END':3,\n",
    "                   'COMM_CB_ST_YM':201510,\n",
    "                   'COMM_CB_ADJ_RATE':0.4,\n",
    "                   'MAX_COMM_CB_M':48}\n",
    "        self.a.add_source_constants(CONSTANTS)\n",
    "        self.a.initialise()\n",
    "        self.a.execute(dokeep='ALL')\n",
    "        \n",
    "    def get_outputs(self,list_node_names=None):\n",
    "        if list_node_names is not None:\n",
    "            out_dict = { key: self.a.vals[key] for key in list_node_names }\n",
    "        else:\n",
    "            out_dict = self.a.vals\n",
    "        return out_dict        "
   ]
  },
  {
   "cell_type": "code",
   "execution_count": 3,
   "metadata": {},
   "outputs": [
    {
     "name": "stdout",
     "output_type": "stream",
     "text": [
      "162 variable definitions imported.\n",
      "Processing MPF. 112 unmapped variables to start with.\n",
      "Processed MPF. 51 new variables mapped.\n",
      "Processing tables. 61 unmapped variables to start with.\n",
      "Processed tables. 26 new variables mapped.\n",
      "Processing tables. 35 unmapped variables to start with.\n",
      "Processed tables. 14 new variables mapped.\n",
      "Processing constants. 21 unmapped variables to start with.\n",
      "Processed tables. 21 new variables mapped.\n"
     ]
    }
   ],
   "source": [
    "from model import execute_graph\n",
    "g = execute_graph('/home/njainiitp/juhi/unittest/test_data_folder')\n",
    "d = g.get_outputs()"
   ]
  },
  {
   "cell_type": "code",
   "execution_count": 2,
   "metadata": {},
   "outputs": [
    {
     "data": {
      "text/plain": [
       "230"
      ]
     },
     "execution_count": 2,
     "metadata": {},
     "output_type": "execute_result"
    }
   ],
   "source": [
    "len(d.keys())"
   ]
  },
  {
   "cell_type": "code",
   "execution_count": null,
   "metadata": {},
   "outputs": [],
   "source": []
  },
  {
   "cell_type": "code",
   "execution_count": null,
   "metadata": {},
   "outputs": [],
   "source": []
  }
 ],
 "metadata": {
  "kernelspec": {
   "display_name": "Python 3",
   "language": "python",
   "name": "python3"
  },
  "language_info": {
   "codemirror_mode": {
    "name": "ipython",
    "version": 3
   },
   "file_extension": ".py",
   "mimetype": "text/x-python",
   "name": "python",
   "nbconvert_exporter": "python",
   "pygments_lexer": "ipython3",
   "version": "3.8.5"
  }
 },
 "nbformat": 4,
 "nbformat_minor": 2
}
