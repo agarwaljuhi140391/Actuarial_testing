{
 "cells": [
  {
   "cell_type": "code",
   "execution_count": 1,
   "metadata": {},
   "outputs": [],
   "source": [
    "#model script to provide outputs\n",
    "import os\n",
    "import sys\n",
    "import pandas as pd\n",
    "import numpy as np\n",
    "from src.dais.models.traditional2 import TraditionalLifeFunctions\n",
    "from src.dais.models.common3 import BaseModel, BondModel\n",
    "import abc\n",
    "from src import dais\n",
    "sys.path.insert(0, os.path.join(os.getcwd() + '/src'))"
   ]
  },
  {
   "cell_type": "code",
   "execution_count": 2,
   "metadata": {},
   "outputs": [],
   "source": [
    "import unittest\n",
    "import argparse\n",
    "from model import execute_graph\n"
   ]
  },
  {
   "cell_type": "code",
   "execution_count": 36,
   "metadata": {},
   "outputs": [
    {
     "name": "stdout",
     "output_type": "stream",
     "text": [
      "162 variable definitions imported.\n",
      "Processing MPF. 112 unmapped variables to start with.\n",
      "Processed MPF. 51 new variables mapped.\n",
      "Processing tables. 61 unmapped variables to start with.\n",
      "Processed tables. 26 new variables mapped.\n",
      "Processing tables. 35 unmapped variables to start with.\n",
      "Processed tables. 14 new variables mapped.\n",
      "Processing constants. 21 unmapped variables to start with.\n",
      "Processed tables. 21 new variables mapped.\n"
     ]
    }
   ],
   "source": [
    "df1 = pd.read_excel('ground_truth.xlsx', 'static', header=None)\n",
    "td1={}\n",
    "for i in range(len(df1)):\n",
    "    td1[df1.iloc[i,0]] = np.array(df1.iloc[i,1]).reshape(1,1)\n",
    "df2 = dict(pd.read_excel('ground_truth.xlsx', 'dynamic'))\n",
    "td2 = {key:df2[key].values[:1200].reshape(1,1200) for key in df2.keys()}\n",
    "td = {**td1, **td2}\n",
    "g = execute_graph(os.getcwd()+'/test_data_folder')\n",
    "d = g.get_outputs()\n",
    "#unittest.main()"
   ]
  },
  {
   "cell_type": "code",
   "execution_count": null,
   "metadata": {},
   "outputs": [],
   "source": [
    "class ExceptionTest(unittest.TestCase):\n",
    "    def __init__(self,d,td):\n",
    "        self.d=d\n",
    "        self.td=td\n",
    "        self.match = {}\n",
    "    def test_run(self):\n",
    "        for key in self.td.keys():\n",
    "            if np.array_equal(self.td.get(key),self.d.get(key)):\n",
    "                self.match[key]==1\n",
    "            else:\n",
    "                self.match[key]==0                \n",
    "        match_keys = [key for key in self.td.keys() if self.match[key]==1]\n",
    "        self.assertTrue(len(match_keys)==len(self.td.keys()))"
   ]
  },
  {
   "cell_type": "code",
   "execution_count": 56,
   "metadata": {},
   "outputs": [
    {
     "name": "stdout",
     "output_type": "stream",
     "text": [
      "PREM_FREQ\n",
      "match\n",
      "MORT_SMK_IDX\n",
      "match\n",
      "IC_PAYBL_PP\n",
      "Not a match\n",
      "RC_PAYBL_PP\n",
      "match\n",
      "PREM_INC\n",
      "Not a match\n",
      "FISCAL_YEAR\n",
      "match\n",
      "RC_PAID\n",
      "match\n",
      "ANN_PREM_PP\n",
      "Not a match\n"
     ]
    }
   ],
   "source": [
    "match = {}\n",
    "for key in td.keys():\n",
    "    print(key)\n",
    "    if np.array_equal(td.get(key).round(decimals=12),d.get(key).round(decimals=12)):\n",
    "        match[key]=1\n",
    "        print('match')\n",
    "    else:\n",
    "        match[key]=0   \n",
    "        print('Not a match')\n",
    "match_keys = [key for key in td.keys() if match[key]==1]"
   ]
  },
  {
   "cell_type": "code",
   "execution_count": 90,
   "metadata": {},
   "outputs": [
    {
     "data": {
      "text/plain": [
       "array([0.1122, 0.    , 0.    , 0.    , 0.    , 0.    , 0.    , 0.    ,\n",
       "       0.    , 0.    ])"
      ]
     },
     "execution_count": 90,
     "metadata": {},
     "output_type": "execute_result"
    }
   ],
   "source": [
    "td['ANN_PREM_PP'][0,600:610]"
   ]
  },
  {
   "cell_type": "code",
   "execution_count": 89,
   "metadata": {},
   "outputs": [
    {
     "data": {
      "text/plain": [
       "array([0.1122, 0.1122, 0.1122, 0.1122, 0.1122, 0.1122, 0.1122, 0.1122,\n",
       "       0.1122, 0.1122])"
      ]
     },
     "execution_count": 89,
     "metadata": {},
     "output_type": "execute_result"
    }
   ],
   "source": [
    "d['ANN_PREM_PP'][0,600:610]"
   ]
  },
  {
   "cell_type": "code",
   "execution_count": null,
   "metadata": {},
   "outputs": [],
   "source": []
  },
  {
   "cell_type": "code",
   "execution_count": 87,
   "metadata": {},
   "outputs": [],
   "source": [
    "Output=[]\n",
    "y=0\n",
    "for x in list(d['ANN_PREM_PP'].squeeze()): \n",
    "    if x != list(td['ANN_PREM_PP'].squeeze())[y]: \n",
    "        Output.append(y) \n",
    "    y = y + 1"
   ]
  },
  {
   "cell_type": "code",
   "execution_count": 88,
   "metadata": {},
   "outputs": [
    {
     "name": "stdout",
     "output_type": "stream",
     "text": [
      "[601, 602, 603, 604, 605, 606, 607, 608, 609, 610, 611, 612, 613, 614, 615, 616, 617, 618, 619, 620, 621, 622, 623, 624, 625, 626, 627, 628, 629, 630, 631, 632, 633, 634, 635, 636, 637, 638, 639, 640, 641, 642, 643, 644, 645, 646, 647, 648, 649, 650, 651, 652, 653, 654, 655, 656, 657, 658, 659, 660, 661, 662, 663, 664, 665, 666, 667, 668, 669, 670, 671, 672, 673, 674, 675, 676, 677, 678, 679, 680, 681, 682, 683, 684, 685, 686, 687, 688, 689, 690, 691, 692, 693, 694, 695, 696, 697, 698, 699, 700, 701, 702, 703, 704, 705, 706, 707, 708, 709, 710, 711, 712, 713, 714, 715, 716, 717, 718, 719, 720, 721, 722, 723, 724, 725, 726, 727, 728, 729, 730, 731, 732, 733, 734, 735, 736, 737, 738, 739, 740, 741, 742, 743, 744, 745, 746, 747, 748, 749, 750, 751, 752, 753, 754, 755, 756, 757, 758, 759, 760, 761, 762, 763, 764, 765, 766, 767, 768, 769, 770, 771, 772, 773, 774, 775, 776, 777, 778, 779, 780, 781, 782, 783, 784, 785, 786, 787, 788, 789, 790, 791, 792, 793, 794, 795, 796, 797, 798, 799, 800, 801, 802, 803, 804, 805, 806, 807, 808, 809, 810, 811, 812, 813, 814, 815, 816, 817, 818, 819, 820, 821, 822, 823, 824, 825, 826, 827, 828, 829, 830, 831, 832, 833, 834, 835, 836, 837, 838, 839, 840, 841, 842, 843, 844, 845, 846, 847, 848, 849, 850, 851, 852, 853, 854, 855, 856, 857, 858, 859, 860, 861, 862, 863, 864, 865, 866, 867, 868, 869, 870, 871, 872, 873, 874, 875, 876, 877, 878, 879, 880, 881, 882, 883, 884, 885, 886, 887, 888, 889, 890, 891, 892, 893, 894, 895, 896, 897, 898, 899, 900, 901, 902, 903, 904, 905, 906, 907, 908, 909, 910, 911, 912, 913, 914, 915, 916, 917, 918, 919, 920, 921, 922, 923, 924, 925, 926, 927, 928, 929, 930, 931, 932, 933, 934, 935, 936, 937, 938, 939, 940, 941, 942, 943, 944, 945, 946, 947, 948, 949, 950, 951, 952, 953, 954, 955, 956, 957, 958, 959, 960, 961, 962, 963, 964, 965, 966, 967, 968, 969, 970, 971, 972, 973, 974, 975, 976, 977, 978, 979, 980, 981, 982, 983, 984, 985, 986, 987, 988, 989, 990, 991, 992, 993, 994, 995, 996, 997, 998, 999, 1000, 1001, 1002, 1003, 1004, 1005, 1006, 1007, 1008, 1009, 1010, 1011, 1012, 1013, 1014, 1015, 1016, 1017, 1018, 1019, 1020, 1021, 1022, 1023, 1024, 1025, 1026, 1027, 1028, 1029, 1030, 1031, 1032, 1033, 1034, 1035, 1036, 1037, 1038, 1039, 1040, 1041, 1042, 1043, 1044, 1045, 1046, 1047, 1048, 1049, 1050, 1051, 1052, 1053, 1054, 1055, 1056, 1057, 1058, 1059, 1060, 1061, 1062, 1063, 1064, 1065, 1066, 1067, 1068, 1069, 1070, 1071, 1072, 1073, 1074, 1075, 1076, 1077, 1078, 1079, 1080, 1081, 1082, 1083, 1084, 1085, 1086, 1087, 1088, 1089, 1090, 1091, 1092, 1093, 1094, 1095, 1096, 1097, 1098, 1099, 1100, 1101, 1102, 1103, 1104, 1105, 1106, 1107, 1108, 1109, 1110, 1111, 1112, 1113, 1114, 1115, 1116, 1117, 1118, 1119, 1120, 1121, 1122, 1123, 1124, 1125, 1126, 1127, 1128, 1129, 1130, 1131, 1132, 1133, 1134, 1135, 1136, 1137, 1138, 1139, 1140, 1141, 1142, 1143, 1144, 1145, 1146, 1147, 1148, 1149, 1150, 1151, 1152, 1153, 1154, 1155, 1156, 1157, 1158, 1159, 1160, 1161, 1162, 1163, 1164, 1165, 1166, 1167, 1168, 1169, 1170, 1171, 1172, 1173, 1174, 1175, 1176, 1177, 1178, 1179, 1180, 1181, 1182, 1183, 1184, 1185, 1186, 1187, 1188, 1189, 1190, 1191, 1192, 1193, 1194, 1195, 1196, 1197, 1198, 1199]\n"
     ]
    }
   ],
   "source": [
    "print(Output)"
   ]
  },
  {
   "cell_type": "code",
   "execution_count": 66,
   "metadata": {},
   "outputs": [
    {
     "data": {
      "text/plain": [
       "0.1122"
      ]
     },
     "execution_count": 66,
     "metadata": {},
     "output_type": "execute_result"
    }
   ],
   "source": [
    "td['ANN_PREM_PP'][0,15]"
   ]
  },
  {
   "cell_type": "code",
   "execution_count": null,
   "metadata": {},
   "outputs": [],
   "source": []
  },
  {
   "cell_type": "code",
   "execution_count": null,
   "metadata": {},
   "outputs": [],
   "source": []
  },
  {
   "cell_type": "code",
   "execution_count": 49,
   "metadata": {},
   "outputs": [],
   "source": [
    "pd.DataFrame({'col1':list(d['RC_PAYBL_PP'])}).to_csv('test.csv')"
   ]
  },
  {
   "cell_type": "code",
   "execution_count": 21,
   "metadata": {},
   "outputs": [
    {
     "data": {
      "text/plain": [
       "array([[2014, 2014, 2014, ..., 2113, 2114, 2114]], dtype=int32)"
      ]
     },
     "execution_count": 21,
     "metadata": {},
     "output_type": "execute_result"
    }
   ],
   "source": [
    "d['FISCAL_YEAR']"
   ]
  },
  {
   "cell_type": "code",
   "execution_count": 28,
   "metadata": {},
   "outputs": [
    {
     "data": {
      "text/plain": [
       "True"
      ]
     },
     "execution_count": 28,
     "metadata": {},
     "output_type": "execute_result"
    }
   ],
   "source": [
    "np.array_equal(td['PREM_FREQ'],d['PREM_FREQ'].squeeze())"
   ]
  },
  {
   "cell_type": "code",
   "execution_count": 25,
   "metadata": {},
   "outputs": [
    {
     "data": {
      "text/plain": [
       "2014"
      ]
     },
     "execution_count": 25,
     "metadata": {},
     "output_type": "execute_result"
    }
   ],
   "source": [
    "d['FISCAL_YEAR'][0,1]"
   ]
  },
  {
   "cell_type": "code",
   "execution_count": 68,
   "metadata": {},
   "outputs": [
    {
     "data": {
      "text/plain": [
       "{'PREM_FREQ': 12, 'MORT_SMK_IDX': 0}"
      ]
     },
     "execution_count": 68,
     "metadata": {},
     "output_type": "execute_result"
    }
   ],
   "source": [
    "td1"
   ]
  },
  {
   "cell_type": "code",
   "execution_count": 32,
   "metadata": {},
   "outputs": [
    {
     "data": {
      "text/plain": [
       "array([[12]])"
      ]
     },
     "execution_count": 32,
     "metadata": {},
     "output_type": "execute_result"
    }
   ],
   "source": [
    "np.array(td['PREM_FREQ']).reshape(1,1)"
   ]
  },
  {
   "cell_type": "code",
   "execution_count": 35,
   "metadata": {},
   "outputs": [
    {
     "data": {
      "text/plain": [
       "array([[ True]])"
      ]
     },
     "execution_count": 35,
     "metadata": {},
     "output_type": "execute_result"
    }
   ],
   "source": [
    "d['PREM_FREQ']==np.array(td['PREM_FREQ']).reshape(1,1)"
   ]
  },
  {
   "cell_type": "code",
   "execution_count": 80,
   "metadata": {},
   "outputs": [
    {
     "data": {
      "text/plain": [
       "array(12)"
      ]
     },
     "execution_count": 80,
     "metadata": {},
     "output_type": "execute_result"
    }
   ],
   "source": []
  },
  {
   "cell_type": "code",
   "execution_count": 83,
   "metadata": {},
   "outputs": [
    {
     "data": {
      "text/plain": [
       "True"
      ]
     },
     "execution_count": 83,
     "metadata": {},
     "output_type": "execute_result"
    }
   ],
   "source": [
    "d['PREM_FREQ'].squeeze()==12"
   ]
  },
  {
   "cell_type": "code",
   "execution_count": null,
   "metadata": {},
   "outputs": [],
   "source": [
    "np.array_equal(td1['PREM_FREQ'],d['PREM_FREQ'].squeeze())\n",
    "np.array_equal(td2['IC_PAYBL_PP'],d['IC_PAYBL_PP'])"
   ]
  },
  {
   "cell_type": "code",
   "execution_count": 89,
   "metadata": {},
   "outputs": [
    {
     "data": {
      "text/plain": [
       "True"
      ]
     },
     "execution_count": 89,
     "metadata": {},
     "output_type": "execute_result"
    }
   ],
   "source": [
    "np.array_equal(td2.get('IC_PAYBL_PP')[1:],d.get('IC_PAYBL_PP')[1:].squeeze())"
   ]
  },
  {
   "cell_type": "code",
   "execution_count": null,
   "metadata": {},
   "outputs": [],
   "source": []
  },
  {
   "cell_type": "code",
   "execution_count": 2,
   "metadata": {},
   "outputs": [],
   "source": [
    "class execute_graph(abc.ABC):\n",
    "    def __init__(self,in_folder):\n",
    "        self.a = BaseModel()\n",
    "        self.a.setfuncs(TraditionalLifeFunctions)\n",
    "        self.mpf=pd.read_table(os.path.join(in_folder,'MPF.txt'),header=0)\n",
    "        def cp_type(x):\n",
    "            if x[:1]==\"A\":\n",
    "                return 0\n",
    "            elif x[:2]==\"L-\":\n",
    "                return 1\n",
    "            elif x[:2]==\"Le\":\n",
    "                return 2\n",
    "            else:\n",
    "                return 999999\n",
    "        def cp_type_adj(x):\n",
    "            if x[:1]==\"A\":\n",
    "                return 0\n",
    "            elif x[:2]==\"L-\":\n",
    "                return 1\n",
    "            elif x[:2]==\"Le\":\n",
    "                return 2\n",
    "            elif x[:2]==\"J-\":\n",
    "                return 3\n",
    "            else:\n",
    "                return 999999\n",
    "        self.mpf=self.mpf.assign(BASE_PROD_CODE_patch=self.mpf['BASE_PROD_CODE'].str.split('_').str.get(-1).astype(np.int64)\n",
    "            ,CP_TYPE_ADJ_patch=self.mpf['CP_TYPE_ADJ'].apply(cp_type_adj)\n",
    "            , CP_TYPE_patch=self.mpf['CP_TYPE'].apply(cp_type)\n",
    "            , ISS_YR_IDX=999999)\n",
    "        self.a.add_source_mpf(self.mpf)\n",
    "        self.a.add_source_tables(pd.read_excel(os.path.join(in_folder,'TablesBE.xlsx'),sheet_name=None))\n",
    "        self.a.add_source_tables(pd.read_excel(os.path.join(in_folder,'TablesCommon.xlsx'),sheet_name=None))\n",
    "        CONSTANTS={'max_incidence_lkup_age': 126,\n",
    "                   'max_mort_sel_lkup_yr': 25,\n",
    "                   'max_lapse_lkup_yr': 21,\n",
    "                   'min_ppia_pc_lkup_yr':1998,\n",
    "                   'max_ppia_pc_lkup_yr':2017,\n",
    "                   'val_yr':2017,\n",
    "                   'val_mth':12,\n",
    "                   'BE_INDEX':2,\n",
    "                   'COMM_LIMIT_ADJ_index':1,\n",
    "                   'IC_PERIOD_M':12,\n",
    "                   'MIN_TAX_LKUP_Y':1996,\n",
    "                   'MAX_TAX_LKUP_Y':2020,\n",
    "                   'MAX_COMM_MILE_M':120,\n",
    "                   'COMM_MILE_FAC':0.25,\n",
    "                   'RC_START_M':13,\n",
    "                   'MIN_COMM_ID':5,\n",
    "                   'M_DISC_RATE':(1+0.06)**(1/12)-1,\n",
    "                   't_range':1200,\n",
    "                   'SPIKE_RATE_PERIOD_INDEX':1,\n",
    "                   'MORT_PAD_PC':0,\n",
    "                   'DEC_WOP_PAD_PC':0,\n",
    "                   'MAX_EXP_LKUP_Y':20,\n",
    "                   'ASSPT_BE_index':1,\n",
    "                   'COM_YEAR_END':3,\n",
    "                   'COMM_CB_ST_YM':201510,\n",
    "                   'COMM_CB_ADJ_RATE':0.4,\n",
    "                   'MAX_COMM_CB_M':48}\n",
    "        self.a.add_source_constants(CONSTANTS)\n",
    "        self.a.initialise()\n",
    "        self.a.execute(dokeep='ALL')\n",
    "        \n",
    "    def get_outputs(self,list_node_names=None):\n",
    "        if list_node_names is not None:\n",
    "            out_dict = { key: self.a.vals[key] for key in list_node_names }\n",
    "        else:\n",
    "            out_dict = self.a.vals\n",
    "        return out_dict        "
   ]
  },
  {
   "cell_type": "code",
   "execution_count": 3,
   "metadata": {},
   "outputs": [
    {
     "name": "stdout",
     "output_type": "stream",
     "text": [
      "162 variable definitions imported.\n",
      "Processing MPF. 112 unmapped variables to start with.\n",
      "Processed MPF. 51 new variables mapped.\n",
      "Processing tables. 61 unmapped variables to start with.\n",
      "Processed tables. 26 new variables mapped.\n",
      "Processing tables. 35 unmapped variables to start with.\n",
      "Processed tables. 14 new variables mapped.\n",
      "Processing constants. 21 unmapped variables to start with.\n",
      "Processed tables. 21 new variables mapped.\n"
     ]
    }
   ],
   "source": [
    "from model import execute_graph\n",
    "g = execute_graph('/home/njainiitp/juhi/unittest/test_data_folder')\n",
    "d = g.get_outputs()"
   ]
  },
  {
   "cell_type": "code",
   "execution_count": 2,
   "metadata": {},
   "outputs": [
    {
     "data": {
      "text/plain": [
       "230"
      ]
     },
     "execution_count": 2,
     "metadata": {},
     "output_type": "execute_result"
    }
   ],
   "source": [
    "len(d.keys())"
   ]
  },
  {
   "cell_type": "code",
   "execution_count": null,
   "metadata": {},
   "outputs": [],
   "source": []
  },
  {
   "cell_type": "code",
   "execution_count": null,
   "metadata": {},
   "outputs": [],
   "source": []
  }
 ],
 "metadata": {
  "kernelspec": {
   "display_name": "Python 3",
   "language": "python",
   "name": "python3"
  },
  "language_info": {
   "codemirror_mode": {
    "name": "ipython",
    "version": 3
   },
   "file_extension": ".py",
   "mimetype": "text/x-python",
   "name": "python",
   "nbconvert_exporter": "python",
   "pygments_lexer": "ipython3",
   "version": "3.8.5"
  }
 },
 "nbformat": 4,
 "nbformat_minor": 2
}
